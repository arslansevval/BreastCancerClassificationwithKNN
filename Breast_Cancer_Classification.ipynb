{
  "nbformat": 4,
  "nbformat_minor": 0,
  "metadata": {
    "colab": {
      "name": "Breast_Cancer_Classification.ipynb",
      "provenance": [],
      "authorship_tag": "ABX9TyOQrREY/L25yeRwWasrWvb8",
      "include_colab_link": true
    },
    "kernelspec": {
      "name": "python3",
      "display_name": "Python 3"
    },
    "language_info": {
      "name": "python"
    }
  },
  "cells": [
    {
      "cell_type": "markdown",
      "metadata": {
        "id": "view-in-github",
        "colab_type": "text"
      },
      "source": [
        "<a href=\"https://colab.research.google.com/github/arslansevval/arslansevval/blob/master/Breast_Cancer_Classification.ipynb\" target=\"_parent\"><img src=\"https://colab.research.google.com/assets/colab-badge.svg\" alt=\"Open In Colab\"/></a>"
      ]
    },
    {
      "cell_type": "code",
      "metadata": {
        "id": "VbKZFqvDIoeg"
      },
      "source": [
        "# Python ≥3.5 is required\n",
        "import sys\n",
        "assert sys.version_info >= (3, 5)"
      ],
      "execution_count": 13,
      "outputs": []
    },
    {
      "cell_type": "code",
      "metadata": {
        "id": "FNqD1R15Izeo"
      },
      "source": [
        "# Scikit-Learn ≥0.20 is required\n",
        "import sklearn\n",
        "assert sklearn.__version__ >= \"0.20\"\n",
        "from sklearn.preprocessing import StandardScaler\n",
        "from sklearn.model_selection import train_test_split , GridSearchCV\n",
        "from sklearn.metrics import accuracy_score, confusion_matrix\n",
        "from sklearn.neighbors import KNeighborsClassifier, NeighborhoodComponentsAnalysis, LocalOutlierFactor\n",
        "from sklearn.decomposition import PCA"
      ],
      "execution_count": 2,
      "outputs": []
    },
    {
      "cell_type": "code",
      "metadata": {
        "id": "PsU4VHeVI2Sy"
      },
      "source": [
        "# Common imports\n",
        "import numpy as np\n",
        "import pandas as pd\n",
        "\n",
        "# To plot pretty figures\n",
        "import seaborn as sns\n",
        "import matplotlib.pyplot as plt\n",
        "from matplotlib.colors import ListedColormap"
      ],
      "execution_count": 3,
      "outputs": []
    },
    {
      "cell_type": "code",
      "metadata": {
        "colab": {
          "base_uri": "https://localhost:8080/"
        },
        "id": "gsK9v-aLI4XI",
        "outputId": "e8c6289f-24c8-47f7-fe9a-bc3b3a955168"
      },
      "source": [
        "from google.colab import drive\n",
        "drive.mount('/content/drive')"
      ],
      "execution_count": 4,
      "outputs": [
        {
          "output_type": "stream",
          "text": [
            "Mounted at /content/drive\n"
          ],
          "name": "stdout"
        }
      ]
    },
    {
      "cell_type": "code",
      "metadata": {
        "colab": {
          "base_uri": "https://localhost:8080/"
        },
        "id": "B34XMGM0I9nG",
        "outputId": "2f4004b1-dbdd-4d7f-8fed-3d685ab16fc0"
      },
      "source": [
        "#Load the data\n",
        "data = pd.read_csv(\"/content/drive/MyDrive/Colab Notebooks/data.csv\")\n",
        "data.drop(['Unnamed: 32', 'id'], inplace = True, axis = 1)\n",
        "print(data)"
      ],
      "execution_count": 31,
      "outputs": [
        {
          "output_type": "stream",
          "text": [
            "    diagnosis  radius_mean  ...  symmetry_worst  fractal_dimension_worst\n",
            "0           M        17.99  ...          0.4601                  0.11890\n",
            "1           M        20.57  ...          0.2750                  0.08902\n",
            "2           M        19.69  ...          0.3613                  0.08758\n",
            "3           M        11.42  ...          0.6638                  0.17300\n",
            "4           M        20.29  ...          0.2364                  0.07678\n",
            "..        ...          ...  ...             ...                      ...\n",
            "564         M        21.56  ...          0.2060                  0.07115\n",
            "565         M        20.13  ...          0.2572                  0.06637\n",
            "566         M        16.60  ...          0.2218                  0.07820\n",
            "567         M        20.60  ...          0.4087                  0.12400\n",
            "568         B         7.76  ...          0.2871                  0.07039\n",
            "\n",
            "[569 rows x 31 columns]\n"
          ],
          "name": "stdout"
        }
      ]
    },
    {
      "cell_type": "code",
      "metadata": {
        "id": "lu-VhzO_JBEE"
      },
      "source": [
        "\n"
      ],
      "execution_count": 27,
      "outputs": []
    }
  ]
}